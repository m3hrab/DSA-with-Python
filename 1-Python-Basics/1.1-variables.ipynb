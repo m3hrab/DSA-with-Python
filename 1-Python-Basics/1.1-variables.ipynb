{
 "cells": [
  {
   "cell_type": "markdown",
   "metadata": {},
   "source": [
    "### Variables are used store data that can be referenced and manipulated in a program. \n",
    "### In python, variables are created when we assign a value to them,don't need to explicitly decleartion to reserve a memory space\n"
   ]
  },
  {
   "cell_type": "code",
   "execution_count": 2,
   "metadata": {},
   "outputs": [
    {
     "name": "stdout",
     "output_type": "stream",
     "text": [
      "Name: Mehrab\n",
      "Age = 25\n",
      "Height =  5.6\n"
     ]
    }
   ],
   "source": [
    "# Definiation\n",
    "# variable_name = value\n",
    "name = \"Mehrab\"\n",
    "age = 25\n",
    "height = 5.6\n",
    "is_student = True\n",
    "\n",
    "print(f'Name: {name}')\n",
    "print(f\"Age = {age}\")\n",
    "print(f\"Height = \", height)"
   ]
  },
  {
   "cell_type": "code",
   "execution_count": 3,
   "metadata": {},
   "outputs": [],
   "source": [
    "# Naming Convensions\n",
    "# Must start with the a letter or an underscore\n",
    "# Can contains letter, number or underscores\n",
    "# Cannot use reserved characters\n",
    "# case sensitive\n",
    "\n",
    "# Valid variable names\n",
    "name = \"Mehrab\"\n",
    "total_score = 99\n",
    "is_true = True\n",
    "\n",
    "# Best practices\n",
    "# use descriptive names (student_name instead of sn)\n",
    "# Flow snake_case for variables ( total_score instead of TotalScore)\n",
    "# constants should be in UPPERCASE (PI= 3.14)\n",
    "first_name = \"Meharb\"\n",
    "second_name = \"Hossain\"\n"
   ]
  },
  {
   "cell_type": "code",
   "execution_count": 7,
   "metadata": {},
   "outputs": [],
   "source": [
    "# Invalid variable names\n",
    "# 2name = 1\n",
    "# @abc = 1\n",
    "# fn&ln = 10"
   ]
  },
  {
   "cell_type": "code",
   "execution_count": 10,
   "metadata": {},
   "outputs": [
    {
     "name": "stdout",
     "output_type": "stream",
     "text": [
      "<class 'int'>\n"
     ]
    }
   ],
   "source": [
    "# Understanding Variable types\n",
    "# Python are dynamically types. the variable type determine at runtime\n",
    "txt = 10\n",
    "print(type(txt))"
   ]
  },
  {
   "cell_type": "code",
   "execution_count": 11,
   "metadata": {},
   "outputs": [
    {
     "name": "stdout",
     "output_type": "stream",
     "text": [
      "<class 'str'>\n"
     ]
    }
   ],
   "source": [
    "txt = 'Hello'\n",
    "print(type(txt))"
   ]
  },
  {
   "cell_type": "code",
   "execution_count": 3,
   "metadata": {},
   "outputs": [
    {
     "name": "stdout",
     "output_type": "stream",
     "text": [
      "20 + 50 = 70\n",
      "20 - 50 = -30\n",
      "20 * 50 = 1000\n",
      "20 / 50 = 0.4\n"
     ]
    }
   ],
   "source": [
    "# simple calculator \n",
    "number_1 = int(input(\"Number 1: \"))\n",
    "number_2 = int(input(\"Number 2: \"))\n",
    "\n",
    "addition = number_1 + number_2\n",
    "substruction = number_1 - number_2\n",
    "multiplication = number_1 * number_2\n",
    "if number_2 != 0:\n",
    "    division = number_1 / number_2\n",
    "else:\n",
    "    division = \"Can't divide by zero\"\n",
    "\n",
    "print(f'{number_1} + {number_2} = {addition}')\n",
    "print(f'{number_1} - {number_2} = {substruction}')\n",
    "print(f'{number_1} * {number_2} = {multiplication}')\n",
    "print(f'{number_1} / {number_2} = {division}')\n"
   ]
  },
  {
   "cell_type": "code",
   "execution_count": 4,
   "metadata": {},
   "outputs": [
    {
     "name": "stdout",
     "output_type": "stream",
     "text": [
      "134324237112912\n"
     ]
    }
   ],
   "source": [
    "# Memory address of a variable\n",
    "name = \"Mehrab\"\n",
    "print(id(name))"
   ]
  },
  {
   "cell_type": "code",
   "execution_count": null,
   "metadata": {},
   "outputs": [],
   "source": []
  }
 ],
 "metadata": {
  "kernelspec": {
   "display_name": "venv",
   "language": "python",
   "name": "python3"
  },
  "language_info": {
   "codemirror_mode": {
    "name": "ipython",
    "version": 3
   },
   "file_extension": ".py",
   "mimetype": "text/x-python",
   "name": "python",
   "nbconvert_exporter": "python",
   "pygments_lexer": "ipython3",
   "version": "3.12.3"
  }
 },
 "nbformat": 4,
 "nbformat_minor": 2
}
